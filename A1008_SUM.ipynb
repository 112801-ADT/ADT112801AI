{
 "cells": [
  {
   "cell_type": "code",
   "execution_count": 7,
   "id": "15bddc78",
   "metadata": {},
   "outputs": [
    {
     "name": "stdout",
     "output_type": "stream",
     "text": [
      "請輸入正整數：10\n"
     ]
    }
   ],
   "source": [
    "sum = 0\n",
    "n = int(input(\"請輸入正整數：\"))"
   ]
  },
  {
   "cell_type": "code",
   "execution_count": 8,
   "id": "0dbf458f",
   "metadata": {},
   "outputs": [
    {
     "name": "stdout",
     "output_type": "stream",
     "text": [
      "1+2+3+4+5+6+7+8+9+10= 55\n",
      "1到 10 總和為 55\n"
     ]
    }
   ],
   "source": [
    "for i in range(1,n+1):\n",
    "    sum = sum + i\n",
    "    print(i,end=\"\")\n",
    "    if i<n:\n",
    "        print(\"+\",end=\"\")\n",
    "        \n",
    "print(\"=\",sum)\n",
    "print(\"1到\",n,\"總和為\",sum)"
   ]
  },
  {
   "cell_type": "code",
   "execution_count": null,
   "id": "23e02572",
   "metadata": {},
   "outputs": [],
   "source": []
  }
 ],
 "metadata": {
  "kernelspec": {
   "display_name": "Python 3 (ipykernel)",
   "language": "python",
   "name": "python3"
  },
  "language_info": {
   "codemirror_mode": {
    "name": "ipython",
    "version": 3
   },
   "file_extension": ".py",
   "mimetype": "text/x-python",
   "name": "python",
   "nbconvert_exporter": "python",
   "pygments_lexer": "ipython3",
   "version": "3.7.16"
  }
 },
 "nbformat": 4,
 "nbformat_minor": 5
}
